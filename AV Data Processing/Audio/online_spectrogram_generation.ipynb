{
  "cells": [
    {
      "cell_type": "code",
      "execution_count": null,
      "metadata": {
        "id": "T1cXiy6lOiSE"
      },
      "outputs": [],
      "source": [
        "import os\n",
        "import pandas as pd\n",
        "import numpy as np\n",
        "\n",
        "import torch\n",
        "from torch.utils.data import Dataset, DataLoader\n",
        "import torchaudio\n",
        "import torchaudio.transforms as T"
      ]
    },
    {
      "attachments": {},
      "cell_type": "markdown",
      "metadata": {
        "id": "d5X3gqw0Dgbf"
      },
      "source": [
        "This Dataset class can be used for both training and to pre-calculate normalization stats for a (spectrogram) dataset"
      ]
    },
    {
      "cell_type": "code",
      "execution_count": null,
      "metadata": {
        "id": "csNKOwcvk6Ab"
      },
      "outputs": [],
      "source": [
        "class audio_dataset(Dataset):\n",
        "    def __init__(self, annotations_file, audio_dir, calculate_norm_stats, spec_mean=0.0, spec_std=0.5):\n",
        "        self.annos = pd.read_csv(annotations_file) # filename in column 1 and labels in column 3.\n",
        "        self.audio_dir = audio_dir # all files in '.wav' format\n",
        "\n",
        "        # The following setting is as specified by AST\n",
        "        self.sampling_frequency = 16000\n",
        "        self.mel = T.MelSpectrogram(\n",
        "                      sample_rate=16000,\n",
        "                      n_fft=400,\n",
        "                      win_length=400,\n",
        "                      hop_length=160,\n",
        "                      n_mels=128,\n",
        "                  )\n",
        "        \n",
        "        self.a2d = T.AmplitudeToDB()\n",
        "        self.calculate_norm_stats = calculate_norm_stats\n",
        "        self.spec_mean = spec_mean\n",
        "        self.spec_std = spec_std\n",
        "\n",
        "    def __len__(self):\n",
        "        return len(self.annos)\n",
        "\n",
        "    def __getitem__(self, idx):\n",
        "        audio_file_name = self.annos.iloc[idx, 1]\n",
        "        audio_path = os.path.join(self.audio_dir, audio_file_name)\n",
        "\n",
        "        waveform, sample_rate = torchaudio.load(audio_path)\n",
        "        if sample_rate != self.sampling_frequency:\n",
        "            waveform = torchaudio.functional.resample(waveform, sample_rate, self.sampling_frequency)\n",
        "        \n",
        "        # normalize raw waveform\n",
        "        waveform = (waveform - torch.mean(waveform)) / (torch.std(waveform) + 1e-6)\n",
        "        # generate mel spectrogram and convert amplitude to decibels\n",
        "        spectrogram = self.a2d(self.mel(waveform))\n",
        "\n",
        "        # labels\n",
        "        label = int(self.annos.iloc[idx, 3])\n",
        "\n",
        "        if self.calculate_norm_stats:\n",
        "          return spectrogram, label\n",
        "        \n",
        "        else:\n",
        "          # normalize spectrogram with custom mean and std values\n",
        "          spectrogram = (spectrogram - self.spec_mean) / self.spec_std\n",
        "          return spectrogram, label"
      ]
    },
    {
      "cell_type": "markdown",
      "metadata": {
        "id": "IpD-dqdnDtiG"
      },
      "source": [
        "Not to be used for training........ To calculate mean and std of a dataset"
      ]
    },
    {
      "cell_type": "code",
      "execution_count": null,
      "metadata": {
        "colab": {
          "base_uri": "https://localhost:8080/"
        },
        "id": "8Z7eCRhG7xWW",
        "outputId": "c8ed2d6a-1a9a-4ab4-9818-786e7933b102"
      },
      "outputs": [
        {
          "name": "stdout",
          "output_type": "stream",
          "text": [
            "Mean and Std of ESC50 dataset..... -9.642373 27.26192\n"
          ]
        }
      ],
      "source": [
        "train_dataset = audio_dataset('ESC50/protocols/train1.csv', 'ESC50/audio/', calculate_norm_stats=True)\n",
        "test_dataset = audio_dataset('ESC50/protocols/test1.csv', 'ESC50/audio/', calculate_norm_stats=True)\n",
        "\n",
        "mean = []\n",
        "std = []\n",
        "\n",
        "for i in range(len(train_dataset)):\n",
        "  x,y = train_dataset[i]\n",
        "  mean.append(torch.mean(x))\n",
        "  std.append(torch.std(x))\n",
        "\n",
        "for i in range(len(test_dataset)):\n",
        "  x,y = test_dataset[i]\n",
        "  mean.append(torch.mean(x))\n",
        "  std.append(torch.std(x))\n",
        "\n",
        "mean = np.asarray(mean)\n",
        "std = np.asarray(std) \n",
        "\n",
        "print(\"Mean and Std of ESC50 dataset.....\", np.mean(mean), np.mean(std))\n",
        "# Mean and Std of ESC50 dataset..... 5.4969063 22.096338"
      ]
    },
    {
      "cell_type": "markdown",
      "metadata": {
        "id": "qvMUYWOhE9Y2"
      },
      "source": [
        "Dataloader for training (to be used in the main loop)"
      ]
    },
    {
      "cell_type": "code",
      "execution_count": null,
      "metadata": {
        "colab": {
          "base_uri": "https://localhost:8080/"
        },
        "id": "IgOADc0WOYSd",
        "outputId": "36283ce6-ad7e-470a-a519-9b830f39501f"
      },
      "outputs": [
        {
          "name": "stdout",
          "output_type": "stream",
          "text": [
            "torch.Size([32, 1, 224, 716]) torch.Size([32])\n",
            "torch.Size([32, 1, 224, 716]) torch.Size([32])\n"
          ]
        }
      ],
      "source": [
        "train_dataset = audio_dataset('ESC50/protocols/train1.csv', 'ESC50/audio/', calculate_norm_stats=False, spec_mean=5.4969063, spec_std=22.096338)\n",
        "test_dataset = audio_dataset('ESC50/protocols/test1.csv', 'ESC50/audio/', calculate_norm_stats=False, spec_mean=5.4969063, spec_std=22.096338)\n",
        "\n",
        "trainloader = DataLoader(train_dataset, batch_size=32)\n",
        "testloader = DataLoader(test_dataset, batch_size=32)\n",
        "\n",
        "for x,y in trainloader:\n",
        "  print(x.shape, y.shape)\n",
        "  break\n",
        "\n",
        "for x,y in testloader:\n",
        "  print(x.shape, y.shape)\n",
        "  break"
      ]
    },
    {
      "cell_type": "code",
      "execution_count": null,
      "metadata": {
        "colab": {
          "base_uri": "https://localhost:8080/"
        },
        "id": "OU1BdtNUKP8a",
        "outputId": "9fcf65c4-1c52-4028-b129-5d3985ef911e"
      },
      "outputs": [
        {
          "name": "stdout",
          "output_type": "stream",
          "text": [
            "torch.Size([1, 224, 716]) tensor(-4.7744) tensor(3.0022)\n",
            "torch.Size([1, 224, 716]) tensor(-2.9414) tensor(3.0675)\n",
            "torch.Size([1, 224, 716]) tensor(-0.7115) tensor(2.5673)\n",
            "torch.Size([1, 224, 716]) tensor(-0.7269) tensor(2.5374)\n",
            "torch.Size([1, 224, 716]) tensor(-1.3142) tensor(2.8114)\n",
            "torch.Size([1, 224, 716]) tensor(-1.2775) tensor(2.9726)\n",
            "torch.Size([1, 224, 716]) tensor(-4.7744) tensor(2.6792)\n",
            "torch.Size([1, 224, 716]) tensor(-1.7821) tensor(2.8586)\n",
            "torch.Size([1, 224, 716]) tensor(-2.3361) tensor(2.5816)\n",
            "torch.Size([1, 224, 716]) tensor(-4.7744) tensor(2.8206)\n"
          ]
        }
      ],
      "source": [
        "# check how min and max values of normalized spectrogrms look like\n",
        "for i in range(10):\n",
        "  x,y = test_dataset[i]\n",
        "  print(x.shape, x.min(), x.max())"
      ]
    }
  ],
  "metadata": {
    "colab": {
      "provenance": []
    },
    "gpuClass": "standard",
    "kernelspec": {
      "display_name": "Python 3",
      "name": "python3"
    },
    "language_info": {
      "name": "python"
    }
  },
  "nbformat": 4,
  "nbformat_minor": 0
}
